{
 "cells": [
  {
   "cell_type": "code",
   "execution_count": 2,
   "id": "amino-dairy",
   "metadata": {},
   "outputs": [],
   "source": [
    "import pandas as pd\n",
    "import numpy as py\n",
    "import matplotlib.pyplot as plt\n",
    "%matplotlib inline"
   ]
  },
  {
   "cell_type": "code",
   "execution_count": 3,
   "id": "ecological-asbestos",
   "metadata": {},
   "outputs": [],
   "source": [
    "import tensorflow as tf"
   ]
  },
  {
   "cell_type": "code",
   "execution_count": 4,
   "id": "arranged-ballet",
   "metadata": {},
   "outputs": [
    {
     "name": "stdout",
     "output_type": "stream",
     "text": [
      "TensorFlow version: 2.7.0\n"
     ]
    }
   ],
   "source": [
    "print(\"TensorFlow version:\", tf.__version__)"
   ]
  },
  {
   "cell_type": "code",
   "execution_count": 5,
   "id": "earlier-gauge",
   "metadata": {},
   "outputs": [],
   "source": [
    "mnist=tf.keras.datasets.mnist"
   ]
  },
  {
   "cell_type": "code",
   "execution_count": 6,
   "id": "immune-curtis",
   "metadata": {},
   "outputs": [],
   "source": [
    "(x_train,y_train),(x_test,y_test)=mnist.load_data()\n",
    "x_train,x_test=x_train/255.0,x_test/255.0"
   ]
  },
  {
   "cell_type": "markdown",
   "id": "finished-wrong",
   "metadata": {},
   "source": [
    "###### Building ML Model"
   ]
  },
  {
   "cell_type": "code",
   "execution_count": 9,
   "id": "above-choir",
   "metadata": {},
   "outputs": [],
   "source": [
    "model=tf.keras.models.Sequential([\n",
    "    tf.keras.layers.Flatten(input_shape=(28,28)),\n",
    "    tf.keras.layers.Dense(128,activation=\"relu\"),\n",
    "    tf.keras.layers.Dropout(0.2),\n",
    "    tf.keras.layers.Dense(10)\n",
    "])"
   ]
  },
  {
   "cell_type": "code",
   "execution_count": 10,
   "id": "earned-lottery",
   "metadata": {},
   "outputs": [
    {
     "data": {
      "text/plain": [
       "array([[-0.3292008 ,  0.11600147,  0.16972898, -0.01154004, -0.9633255 ,\n",
       "         0.29580688, -0.0587599 , -0.42075533, -0.15774989, -0.20584665]],\n",
       "      dtype=float32)"
      ]
     },
     "execution_count": 10,
     "metadata": {},
     "output_type": "execute_result"
    }
   ],
   "source": [
    "pred=model(x_train[:1]).numpy()\n",
    "pred"
   ]
  },
  {
   "cell_type": "code",
   "execution_count": 11,
   "id": "atmospheric-indonesia",
   "metadata": {},
   "outputs": [
    {
     "data": {
      "text/plain": [
       "array([[0.07986137, 0.12464809, 0.1315283 , 0.10972234, 0.04235843,\n",
       "        0.14920183, 0.10466169, 0.07287442, 0.09479751, 0.09034596]],\n",
       "      dtype=float32)"
      ]
     },
     "execution_count": 11,
     "metadata": {},
     "output_type": "execute_result"
    }
   ],
   "source": [
    "tf.nn.softmax(pred).numpy()"
   ]
  },
  {
   "cell_type": "markdown",
   "id": "critical-battery",
   "metadata": {},
   "source": [
    "###### Define a loss function for training using losses.SparseCategoricalCrossentropy, which takes a vector of logits and a True index and returns a scalar loss for each example."
   ]
  },
  {
   "cell_type": "code",
   "execution_count": 12,
   "id": "grand-parameter",
   "metadata": {},
   "outputs": [],
   "source": [
    "loss=tf.keras.losses.SparseCategoricalCrossentropy(from_logits=True)"
   ]
  },
  {
   "cell_type": "code",
   "execution_count": 14,
   "id": "vertical-reach",
   "metadata": {},
   "outputs": [
    {
     "data": {
      "text/plain": [
       "1.9024553"
      ]
     },
     "execution_count": 14,
     "metadata": {},
     "output_type": "execute_result"
    }
   ],
   "source": [
    "loss(y_train[:1], pred).numpy()"
   ]
  },
  {
   "cell_type": "code",
   "execution_count": 15,
   "id": "welcome-broad",
   "metadata": {},
   "outputs": [],
   "source": [
    "model.compile(optimizer=\"adam\",loss=loss,metrics=[\"accuracy\"])"
   ]
  },
  {
   "cell_type": "code",
   "execution_count": 16,
   "id": "practical-worth",
   "metadata": {},
   "outputs": [
    {
     "name": "stdout",
     "output_type": "stream",
     "text": [
      "Epoch 1/5\n",
      "1875/1875 [==============================] - 4s 1ms/step - loss: 0.2911 - accuracy: 0.9158\n",
      "Epoch 2/5\n",
      "1875/1875 [==============================] - 2s 1ms/step - loss: 0.1443 - accuracy: 0.9566\n",
      "Epoch 3/5\n",
      "1875/1875 [==============================] - 2s 944us/step - loss: 0.1093 - accuracy: 0.9668\n",
      "Epoch 4/5\n",
      "1875/1875 [==============================] - 2s 951us/step - loss: 0.0875 - accuracy: 0.9737\n",
      "Epoch 5/5\n",
      "1875/1875 [==============================] - 2s 849us/step - loss: 0.0753 - accuracy: 0.9767\n"
     ]
    },
    {
     "data": {
      "text/plain": [
       "<keras.callbacks.History at 0x1b3882ca790>"
      ]
     },
     "execution_count": 16,
     "metadata": {},
     "output_type": "execute_result"
    }
   ],
   "source": [
    "model.fit(x_train,y_train,epochs=5)"
   ]
  },
  {
   "cell_type": "code",
   "execution_count": 17,
   "id": "assumed-brass",
   "metadata": {},
   "outputs": [
    {
     "name": "stdout",
     "output_type": "stream",
     "text": [
      "313/313 - 1s - loss: 0.0761 - accuracy: 0.9773 - 699ms/epoch - 2ms/step\n"
     ]
    },
    {
     "data": {
      "text/plain": [
       "[0.07607495784759521, 0.9772999882698059]"
      ]
     },
     "execution_count": 17,
     "metadata": {},
     "output_type": "execute_result"
    }
   ],
   "source": [
    "model.evaluate(x_test,  y_test, verbose=2)"
   ]
  },
  {
   "cell_type": "code",
   "execution_count": 18,
   "id": "foster-holiday",
   "metadata": {},
   "outputs": [],
   "source": [
    "prob_model = tf.keras.Sequential([\n",
    "  model,\n",
    "  tf.keras.layers.Softmax()\n",
    "])"
   ]
  },
  {
   "cell_type": "code",
   "execution_count": 19,
   "id": "eleven-software",
   "metadata": {},
   "outputs": [
    {
     "data": {
      "text/plain": [
       "<tf.Tensor: shape=(5, 10), dtype=float32, numpy=\n",
       "array([[3.92298780e-08, 2.76495493e-09, 9.28702775e-06, 5.35381914e-05,\n",
       "        2.55118999e-11, 2.59753019e-08, 1.59227734e-13, 9.99935269e-01,\n",
       "        2.77804389e-07, 1.60795491e-06],\n",
       "       [7.46558015e-09, 2.95173577e-05, 9.99952674e-01, 1.42840927e-05,\n",
       "        1.15050884e-14, 1.32825065e-07, 1.09771258e-06, 1.61505987e-12,\n",
       "        2.22802009e-06, 3.51753484e-13],\n",
       "       [3.33396855e-07, 9.99022484e-01, 1.78568647e-04, 3.12864654e-06,\n",
       "        6.11595242e-05, 1.39623285e-06, 1.41704204e-05, 6.71716232e-04,\n",
       "        4.60810479e-05, 8.70434974e-07],\n",
       "       [9.99712288e-01, 2.78480936e-08, 1.57155358e-04, 2.44037551e-06,\n",
       "        2.75750222e-06, 6.03536364e-06, 3.78795303e-05, 7.04071936e-05,\n",
       "        3.17147681e-07, 1.06594680e-05],\n",
       "       [2.93655139e-05, 3.25686855e-08, 8.44164242e-06, 1.78876505e-07,\n",
       "        9.93241668e-01, 3.69097179e-05, 1.42587087e-05, 3.16124177e-04,\n",
       "        1.78583241e-06, 6.35129539e-03]], dtype=float32)>"
      ]
     },
     "execution_count": 19,
     "metadata": {},
     "output_type": "execute_result"
    }
   ],
   "source": [
    "prob_model(x_test[:5])"
   ]
  },
  {
   "cell_type": "code",
   "execution_count": null,
   "id": "painted-bobby",
   "metadata": {},
   "outputs": [],
   "source": []
  }
 ],
 "metadata": {
  "kernelspec": {
   "display_name": "Python 3",
   "language": "python",
   "name": "python3"
  },
  "language_info": {
   "codemirror_mode": {
    "name": "ipython",
    "version": 3
   },
   "file_extension": ".py",
   "mimetype": "text/x-python",
   "name": "python",
   "nbconvert_exporter": "python",
   "pygments_lexer": "ipython3",
   "version": "3.8.5"
  }
 },
 "nbformat": 4,
 "nbformat_minor": 5
}
